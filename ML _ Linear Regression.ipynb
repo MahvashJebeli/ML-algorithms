{
 "cells": [
  {
   "cell_type": "code",
   "execution_count": 5,
   "id": "8dd50af6",
   "metadata": {},
   "outputs": [],
   "source": [
    "# Simple Linear Regression Example\n",
    "\n",
    "# pip install sklearn\n",
    "# pip install quandl\n",
    "# pip install pandas"
   ]
  },
  {
   "cell_type": "code",
   "execution_count": 80,
   "id": "847c6c34",
   "metadata": {
    "scrolled": true
   },
   "outputs": [],
   "source": [
    "import pandas as pd\n",
    "import quandl, math, datetime\n",
    "import numpy as np\n",
    "from sklearn import preprocessing, svm\n",
    "from sklearn.model_selection import train_test_split # for cross_validation\n",
    "from sklearn.linear_model import LinearRegression\n",
    "import matplotlib.pyplot as plt # how to plot\n",
    "from matplotlib import style # make the plot look decent\n",
    "import pickle\n",
    "\n",
    "style.use('ggplot') # decent in what way"
   ]
  },
  {
   "cell_type": "code",
   "execution_count": 21,
   "id": "41272a73",
   "metadata": {},
   "outputs": [],
   "source": [
    "#working with google stock free dataset available\n",
    "df = quandl.get('WIKI/GOOGL')\n",
    "#print(df.head())"
   ]
  },
  {
   "cell_type": "code",
   "execution_count": 12,
   "id": "c4191546",
   "metadata": {},
   "outputs": [],
   "source": [
    "# keeping the columns we want to use\n",
    "df = df[['Adj. Open','Adj. High','Adj. Low','Adj. Close','Adj. Volume']]"
   ]
  },
  {
   "cell_type": "code",
   "execution_count": 13,
   "id": "afd7a00d",
   "metadata": {},
   "outputs": [],
   "source": [
    "# finding the relationship btw features\n",
    "df['HL_Percent'] = (df['Adj. High']-df['Adj. Close'])/df['Adj. Close']*100\n",
    "df['Percent_change'] = (df['Adj. Close']-df['Adj. Open'])/df['Adj. Open']*100"
   ]
  },
  {
   "cell_type": "code",
   "execution_count": 19,
   "id": "b6e78f8f",
   "metadata": {},
   "outputs": [],
   "source": [
    "# keeping the important columns only\n",
    "df = df[['Adj. Close','HL_Percent', 'Percent_change', 'Adj. Volume']]\n",
    "#print(df.head())"
   ]
  },
  {
   "cell_type": "code",
   "execution_count": 70,
   "id": "f226f12c",
   "metadata": {},
   "outputs": [],
   "source": [
    "#start forecasting\n",
    "forecast_col = 'Adj. Close'\n",
    "df.fillna(-99999, inplace=True) # fill in the missing data\n",
    "forecast_out = int(math.ceil(0.01*len(df))) # 10% of the dataset\n",
    "df['label'] = df[forecast_col].shift(-forecast_out) # creating the label\n",
    "#df.dropna(inplace=True)\n",
    "#print(df.head())"
   ]
  },
  {
   "cell_type": "code",
   "execution_count": 71,
   "id": "db2941a5",
   "metadata": {},
   "outputs": [
    {
     "name": "stdout",
     "output_type": "stream",
     "text": [
      "3221 3221\n"
     ]
    },
    {
     "name": "stderr",
     "output_type": "stream",
     "text": [
      "C:\\Users\\mahva\\AppData\\Local\\Temp/ipykernel_21936/2781307659.py:1: FutureWarning: In a future version of pandas all arguments of DataFrame.drop except for the argument 'labels' will be keyword-only\n",
      "  X = np.array(df.drop(['label'],1)) # making features, a numpy array with everything except the lable column\n"
     ]
    }
   ],
   "source": [
    "X = np.array(df.drop(['label'],1)) # making features, a numpy array with everything except the lable column\n",
    "X = preprocessing.scale(X) # Scaling X, to decrease the computations (processing time) and increase precision?\n",
    "X = X[:-forecast_out]\n",
    "X_lately = X[-forecast_out:]\n",
    "\n",
    "df.dropna(inplace=True)\n",
    "y = np.array(df['label']) # making labels, a numpy array with just label column\n",
    "#print(len(X),len(y))"
   ]
  },
  {
   "cell_type": "code",
   "execution_count": 72,
   "id": "17cd491f",
   "metadata": {},
   "outputs": [],
   "source": [
    "#split into train and test datasets\n",
    "X_train, X_test, y_train, y_test = train_test_split(X, y, test_size=0.2)"
   ]
  },
  {
   "cell_type": "code",
   "execution_count": 82,
   "id": "937dac87",
   "metadata": {},
   "outputs": [
    {
     "name": "stdout",
     "output_type": "stream",
     "text": [
      "0.9719967684240309\n"
     ]
    }
   ],
   "source": [
    "# the classifier!!\n",
    "clf = LinearRegression() # define classifier, clf = LinearRegression(n_jobs=10) to run jobs/threads: -1 for as many as possible by the hardware\n",
    "#clf = svm.SVR(kernel = 'poly') # changing the algorithm to support vector regression\n",
    "clf.fit(X_train, y_train) # fit the classifier to the training dataset\n",
    "\n",
    "# saving the classifier, so less need to train it every time\n",
    "with open('linearregression.pickle','wb') as f:\n",
    "    pickle.dump(clf, f)\n",
    "    \n",
    "pickle_in = open('linearregression.pickle', 'rb')\n",
    "clf = pickle.load(pickle_in)\n",
    "\n",
    "accuracy = clf.score(X_test, y_test) # test the classifier\n",
    "print(accuracy)"
   ]
  },
  {
   "cell_type": "code",
   "execution_count": 83,
   "id": "147fe654",
   "metadata": {},
   "outputs": [
    {
     "name": "stdout",
     "output_type": "stream",
     "text": [
      "[ 872.41195079  875.20144559  874.29375508  894.38202578  904.2496021\n",
      "  905.83498041  906.51810161  940.03932654  948.12238317  951.69546674\n",
      "  962.71611952  969.49707633  967.38296803  972.41342716  973.02034163\n",
      "  971.18138486  970.75833975  971.10257886  973.85610871  979.46188661\n",
      "  963.96451649  965.01883112  968.39593127  977.84206956  986.33678053\n",
      "  992.62853466 1005.94909382 1008.49398796 1009.8075954  1006.64330903\n",
      " 1005.8848395  1010.10477622 1018.26016613] 0.9719967684240309 33\n"
     ]
    }
   ],
   "source": [
    "# predicting\n",
    "forecast_set = clf.predict(X_lately)\n",
    "print(forecast_set, accuracy, forecast_out)"
   ]
  },
  {
   "cell_type": "code",
   "execution_count": 84,
   "id": "d2a99391",
   "metadata": {},
   "outputs": [
    {
     "data": {
      "image/png": "[encoded data removed]",
      "text/plain": [
       "<Figure size 432x288 with 1 Axes>"
      ]
     },
     "metadata": {},
     "output_type": "display_data"
    }
   ],
   "source": [
    "# visualization\n",
    "df['Forecast'] = np.nan\n",
    "\n",
    "last_date = df.iloc[-1].name\n",
    "last_unix = last_date.timestamp()\n",
    "one_day = 86400\n",
    "next_unix = last_unix + one_day\n",
    "\n",
    "# populate dataframe with \"new dates\" and forecasted values\n",
    "for i in forecast_set:\n",
    "    next_date = datetime.datetime.fromtimestamp(next_unix)\n",
    "    next_unix += one_day\n",
    "    df.loc[next_date] = [np.nan for _ in range(len(df.columns)-1)] + [i] # making evry oclumn NaN and add the forecast value to the last column on that specific label (date)\n",
    "\n",
    "#print(df.head()) #to check what the for loop did to the data.\n",
    "#print(df.tail())\n",
    "\n",
    "\n",
    "# plotting\n",
    "df['Adj. Close'].plot()\n",
    "df['Forecast'].plot()\n",
    "plt.legend(loc=4) # bottom right\n",
    "plt.xlabel('Date')\n",
    "plt.ylabel('Price')\n",
    "plt.show()"
   ]
  },
  {
   "cell_type": "code",
   "execution_count": 103,
   "id": "50deebb1",
   "metadata": {},
   "outputs": [],
   "source": [
    "# building linear regression FROM SCRATCH\n",
    "from statistics import mean\n",
    "import numpy as np\n",
    "import matplotlib.pyplot as plt\n",
    "from matplotlib import style\n",
    "import random # pseudo-random numbers\n",
    "\n",
    "style.use('fivethirtyeight')"
   ]
  },
  {
   "cell_type": "code",
   "execution_count": 112,
   "id": "5f8abb21",
   "metadata": {},
   "outputs": [
    {
     "name": "stdout",
     "output_type": "stream",
     "text": [
      "0.9248515726670744\n"
     ]
    },
    {
     "data": {
      "image/png": "[encoded data removed]",
      "text/plain": [
       "<Figure size 432x288 with 1 Axes>"
      ]
     },
     "metadata": {},
     "output_type": "display_data"
    }
   ],
   "source": [
    "# xs = np.array([1,2,3,4,5,6], dtype = np.float64)\n",
    "# ys = np.array([5,4,6,5,6,7], dtype = np.float64)\n",
    "\n",
    "def create_dataset(hm, variance, step=2, correlation=False):\n",
    "    val = 1\n",
    "    ys = []\n",
    "    for i in range(hm):\n",
    "        y = val + random.randrange(-variance, variance)\n",
    "        ys.append(y)\n",
    "        if correlation and correlation == 'pos':\n",
    "            val += step\n",
    "        if correlation and correlation == 'neg':\n",
    "            val -= step\n",
    "    xs = [i for i in range(len(ys))]\n",
    "    return np.array(xs, dtype=np.float64), np.array(ys, dtype=np.float64)\n",
    "\n",
    "# defining the slope and the y-intercept\n",
    "def best_fit_slope_and_intercept(xs,ys):\n",
    "    m = ((mean(xs)*mean(ys))-(mean(xs*ys)))/((mean(xs)*mean(xs))-(mean(xs*xs)))\n",
    "    b = mean(ys)-m*mean(xs)\n",
    "    return m, b\n",
    "\n",
    "def squared_error(ys_orig, ys_line):\n",
    "    return sum((ys_line-ys_orig)**2)\n",
    "\n",
    "def coefficient_of_determination(ys_orig, ys_line):\n",
    "    y_mean_line = [mean(ys_orig) for y in ys_orig]\n",
    "    squared_error_regr = squared_error(ys_orig, ys_line)\n",
    "    squared_error_mean = squared_error(ys_orig, y_mean_line)\n",
    "    return 1-(squared_error_regr / squared_error_mean)\n",
    "\n",
    "# create random dataset\n",
    "xs, ys = create_dataset(40, 10, 2, correlation = 'pos')\n",
    "\n",
    "m, b = best_fit_slope_and_intercept(xs,ys)\n",
    "# print(m,b)\n",
    "\n",
    "regression_line = [(m*x+b) for x in xs] #make the line with the best values for m and b calculated above\n",
    "\n",
    "r_squared = coefficient_of_determination(ys, regression_line)\n",
    "print(r_squared)\n",
    "\n",
    "plt.scatter(xs, ys)\n",
    "plt.plot(xs, regression_line)\n",
    "plt.show()"
   ]
  },
  {
   "cell_type": "code",
   "execution_count": 113,
   "id": "617dc75e",
   "metadata": {},
   "outputs": [
    {
     "data": {
      "image/png": "[encoded data removed]",
      "text/plain": [
       "<Figure size 432x288 with 1 Axes>"
      ]
     },
     "metadata": {},
     "output_type": "display_data"
    }
   ],
   "source": [
    "# prediction!\n",
    "predict_x = 8\n",
    "predict_y = m*predict_x + b\n",
    "\n",
    "plt.scatter(xs, ys)\n",
    "plt.scatter(predict_x, predict_y, s = 100, color='g')\n",
    "plt.plot(xs, regression_line)\n",
    "plt.show()"
   ]
  }
 ],
 "metadata": {
  "kernelspec": {
   "display_name": "Python 3 (ipykernel)",
   "language": "python",
   "name": "python3"
  },
  "language_info": {
   "codemirror_mode": {
    "name": "ipython",
    "version": 3
   },
   "file_extension": ".py",
   "mimetype": "text/x-python",
   "name": "python",
   "nbconvert_exporter": "python",
   "pygments_lexer": "ipython3",
   "version": "3.9.7"
  }
 },
 "nbformat": 4,
 "nbformat_minor": 5
}

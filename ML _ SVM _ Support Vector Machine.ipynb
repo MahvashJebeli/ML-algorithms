{
 "cells": [
  {
   "cell_type": "code",
   "execution_count": 1,
   "id": "768bc8e5",
   "metadata": {},
   "outputs": [],
   "source": [
    "# SVM Example\n",
    "\n",
    "# Using Breast Cancer datasets\n",
    "# from UCIrvine data repository (archive.ics.uci.edu/ml/datasets.html)\n",
    "import numpy as np\n",
    "from sklearn import preprocessing, neighbors, svm\n",
    "from sklearn.model_selection import train_test_split # for cross_validation\n",
    "import pandas as pd"
   ]
  },
  {
   "cell_type": "code",
   "execution_count": 2,
   "id": "3a9add48",
   "metadata": {},
   "outputs": [
    {
     "name": "stderr",
     "output_type": "stream",
     "text": [
      "C:\\Users\\mahva\\AppData\\Local\\Temp/ipykernel_9596/3132182235.py:3: FutureWarning: In a future version of pandas all arguments of DataFrame.drop except for the argument 'labels' will be keyword-only\n",
      "  df.drop(['id'], 1, inplace=True)\n",
      "C:\\Users\\mahva\\AppData\\Local\\Temp/ipykernel_9596/3132182235.py:5: FutureWarning: In a future version of pandas all arguments of DataFrame.drop except for the argument 'labels' will be keyword-only\n",
      "  X = np.array(df.drop(['class'],1))\n"
     ]
    }
   ],
   "source": [
    "df = pd.read_csv('breast-cancer-wisconsin.data')\n",
    "df.replace('?', -99999, inplace=True) # making a huge outlier in place of a missing datapoint\n",
    "df.drop(['id'], 1, inplace=True)\n",
    "\n",
    "X = np.array(df.drop(['class'],1))\n",
    "y = np.array(df['class'])\n",
    "\n",
    "X_train, X_test, y_train, y_test = train_test_split(X, y, test_size=0.2)"
   ]
  },
  {
   "cell_type": "code",
   "execution_count": 3,
   "id": "f21cf44f",
   "metadata": {},
   "outputs": [
    {
     "name": "stdout",
     "output_type": "stream",
     "text": [
      "0.6214285714285714\n"
     ]
    }
   ],
   "source": [
    "# Defining the classifier\n",
    "clf = svm.SVC()\n",
    "clf.fit(X_train, y_train)\n",
    "\n",
    "accuracy = clf.score(X_test, y_test)\n",
    "print(accuracy)"
   ]
  },
  {
   "cell_type": "code",
   "execution_count": 4,
   "id": "e0cee148",
   "metadata": {},
   "outputs": [
    {
     "name": "stdout",
     "output_type": "stream",
     "text": [
      "[2 2]\n"
     ]
    }
   ],
   "source": [
    "# Prediction\n",
    "example_measures = np.array([[4,2,1,1,1,2,3,2,1],[4,2,1,2,2,2,3,2,1]])\n",
    "example_measures = example_measures.reshape(len(example_measures), -1)\n",
    "prediction = clf.predict(example_measures)\n",
    "print(prediction)"
   ]
  },
  {
   "cell_type": "code",
   "execution_count": 13,
   "id": "9c2d23d3",
   "metadata": {},
   "outputs": [],
   "source": [
    "# Building SVM algorithm FROM SCRATCH\n",
    "import matplotlib.pyplot as plt\n",
    "from matplotlib import style\n",
    "import numpy as np\n",
    "style.use('ggplot')"
   ]
  },
  {
   "cell_type": "code",
   "execution_count": 28,
   "id": "8155c6e2",
   "metadata": {},
   "outputs": [],
   "source": [
    "class Support_Vector_Machine:\n",
    "    def __init__(self, visualization = True):\n",
    "        self.visualization = visualization\n",
    "        self.colors = {1:'r', -1:'b'} #class of 1 will be in red, and class of -1 will be in blue\n",
    "        if self.visualization:\n",
    "            self.fig = plt.figure()\n",
    "            self.ax = self.fig.add_subplot(1,1,1) # grid of 1,1, and the first plot\n",
    "    \n",
    "    #train, minimize mmagnitude of w, and maximize b\n",
    "    def fit(self, data): # optomization part of it, to determine w and b.\n",
    "        self.data = data\n",
    "        opt_dict = {} # a dictionary with key of magnitude of w and the value of a list of w and b, {||w|| : [w,b]}\n",
    "        \n",
    "        transforms = [[1,1],\n",
    "                      [-1,1],\n",
    "                      [-1,-1],\n",
    "                      [1,-1]]\n",
    "        \n",
    "        all_data = []\n",
    "        for yi in self.data:\n",
    "            for featureset in self.data[yi]:\n",
    "                for feature in featureset:\n",
    "                    all_data.append(feature)\n",
    "                    \n",
    "        self.max_feature_value = max(all_data)\n",
    "        self.min_feature_value = min(all_data)\n",
    "        all_data = None\n",
    "        \n",
    "        step_sizes = [self.max_feature_value*0.1,\n",
    "                      self.max_feature_value*0.01,\n",
    "                      self.max_feature_value*0.001] # more gets more expensive\n",
    "        \n",
    "        b_range_multiple = 5 # extremely expensive, b does not need to be veery precise as w.\n",
    "        b_multiple = 5 # making the step for b bigger than w. less important\n",
    "        latest_optimum = self.max_feature_value*10\n",
    "        \n",
    "        # stepping process\n",
    "        for step in step_sizes:\n",
    "            w = np.array([latest_optimum, latest_optimum])\n",
    "            optimized = False\n",
    "            while not optimized:\n",
    "                for b in np.arange(-1*(self.max_feature_value*b_range_multiple),\n",
    "                                   self.max_feature_value*b_range_multiple, \n",
    "                                   step*b_multiple):\n",
    "                    for transformation in transforms:\n",
    "                        w_t = w*transformation\n",
    "                        found_option = True\n",
    "                        for i in self.data:\n",
    "                            for xi in self.data[i]:\n",
    "                                yi = i\n",
    "                                if not yi*(np.dot(w_t,xi)+b) >= 1: #yi(xi.w+b) >= 1\n",
    "                                    found_option = False\n",
    "                        if found_option:\n",
    "                            opt_dict[np.linalg.norm(w_t)] = [w_t, b]\n",
    "                            \n",
    "                if w[0] < 0:\n",
    "                    optimized = True\n",
    "                    print('optimized a step')\n",
    "                else:\n",
    "                    w = w - step\n",
    "            norms = sorted([n for n in opt_dict])\n",
    "            opt_choice = opt_dict[norms[0]]\n",
    "            self.w = opt_choice[0]\n",
    "            self.b = opt_choice[1]\n",
    "            latest_optimum = opt_choice[0][0]+step*2\n",
    "\n",
    "    # Prediction\n",
    "    def predict(self, features):\n",
    "        classification = np.sign(np.dot(np.array(features), self.w) + self.b) # sign(x.w+b)\n",
    "        if classification != 0 and self.visualization:\n",
    "            self.ax.scatter(features[0], features[1], s = 200, marker = '*', c = self.colors[classification])\n",
    "        return classification\n",
    "    \n",
    "    def visualize(self):\n",
    "        [[self.ax.scatter(x[0], x[1], s = 100, color = self.colors[i]) for x in data_dict[i]] for i in data_dict]\n",
    "        def hyperplane(x,w,b, v):\n",
    "            #hyperplane = x.w+b = v \n",
    "            #positive v = 1, negative v = -1, decision boundary v = 0\n",
    "            return (-w[0]*x-b+v) / w[1]\n",
    "        datarange = (self.min_feature_value*0.9, self.max_feature_value*1.1)\n",
    "        hype_x_min = datarange[0]\n",
    "        hype_x_max = datarange[1]\n",
    "        \n",
    "        # positive support vector hyperplane\n",
    "        # x.w+b = 1\n",
    "        psv1 = hyperplane(hype_x_min, self.w, self.b, 1)\n",
    "        psv2 = hyperplane(hype_x_max, self.w, self.b, 1)\n",
    "        self.ax.plot([hype_x_min, hype_x_max], [psv1, psv2], 'k')\n",
    "            \n",
    "        # negative support vector hyperplane\n",
    "        # x.w+b = -1\n",
    "        nsv1 = hyperplane(hype_x_min, self.w, self.b, -1)\n",
    "        nsv2 = hyperplane(hype_x_max, self.w, self.b, -1)\n",
    "        self.ax.plot([hype_x_min, hype_x_max], [nsv1, nsv2], 'k')\n",
    "        \n",
    "        # decision boundary hyperplane\n",
    "        # x.w+b = 0\n",
    "        db1 = hyperplane(hype_x_min, self.w, self.b, 0)\n",
    "        db2 = hyperplane(hype_x_max, self.w, self.b, 0)\n",
    "        self.ax.plot([hype_x_min, hype_x_max], [db1, db2], 'g--')\n",
    "        \n",
    "        plt.show()\n",
    "\n",
    "data_dict = {-1:np.array([[1,7],\n",
    "                         [2,8],\n",
    "                         [3,8]]),\n",
    "             \n",
    "             1:np.array([[5,1],\n",
    "                         [6,-1],\n",
    "                         [7,3]])}"
   ]
  },
  {
   "cell_type": "code",
   "execution_count": 34,
   "id": "983755a8",
   "metadata": {},
   "outputs": [
    {
     "name": "stdout",
     "output_type": "stream",
     "text": [
      "optimized a step\n",
      "optimized a step\n",
      "optimized a step\n"
     ]
    },
    {
     "data": {
      "image/png": "[encoded data removed]",
      "text/plain": [
       "<Figure size 432x288 with 1 Axes>"
      ]
     },
     "metadata": {},
     "output_type": "display_data"
    }
   ],
   "source": [
    "svm = Support_Vector_Machine()\n",
    "svm.fit(data = data_dict)\n",
    "# making predictions\n",
    "predict_us = [[0,1], [1,5], [2,3], [8,5]]\n",
    "for p in predict_us:\n",
    "    svm.predict(p)\n",
    "svm.visualize()"
   ]
  },
  {
   "cell_type": "code",
   "execution_count": null,
   "id": "da5d81ec",
   "metadata": {},
   "outputs": [],
   "source": []
  }
 ],
 "metadata": {
  "kernelspec": {
   "display_name": "Python 3 (ipykernel)",
   "language": "python",
   "name": "python3"
  },
  "language_info": {
   "codemirror_mode": {
    "name": "ipython",
    "version": 3
   },
   "file_extension": ".py",
   "mimetype": "text/x-python",
   "name": "python",
   "nbconvert_exporter": "python",
   "pygments_lexer": "ipython3",
   "version": "3.9.7"
  }
 },
 "nbformat": 4,
 "nbformat_minor": 5
}

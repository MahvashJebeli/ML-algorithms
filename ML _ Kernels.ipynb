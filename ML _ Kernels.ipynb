{
 "cells": [
  {
   "cell_type": "code",
   "execution_count": null,
   "id": "2466eb4c",
   "metadata": {},
   "outputs": [],
   "source": [
    "# !pip install -U numpy --user       to update the numpy on the kernel for the jupyter, to be hte same as the system."
"# This code is my practice from the online course on https://www.youtube.com/playlist?list=PLQVvvaa0QuDfKTOs3Keq_kaG2P55YRn5v"
   ]
  },
  {
   "cell_type": "code",
   "execution_count": 1,
   "id": "241570d1",
   "metadata": {},
   "outputs": [],
   "source": [
    "import pandas as pd\n",
    "import numpy as np\n",
    "import matplotlib.pyplot as plt\n",
    "# from numpy import linalg\n",
    "from sklearn import preprocessing, neighbors, datasets, svm\n",
    "from sklearn.datasets import make_classification\n",
    "from sklearn.inspection import DecisionBoundaryDisplay\n",
    "from sklearn.model_selection import train_test_split"
   ]
  },
  {
   "cell_type": "code",
   "execution_count": 5,
   "id": "f92c6b1d",
   "metadata": {},
   "outputs": [],
   "source": [
    "# Data input\n",
    "x,y = make_classification(n_samples = 1000)\n",
    "x_train, x_test, y_train, y_test = train_test_split(x, y, test_size=0.2, stratify = y)"
   ]
  },
  {
   "cell_type": "code",
   "execution_count": 6,
   "id": "79a743f7",
   "metadata": {},
   "outputs": [
    {
     "name": "stdout",
     "output_type": "stream",
     "text": [
      "0.84\n"
     ]
    }
   ],
   "source": [
    "# Different Kernels from scratch, just in case\n",
    "def linear_Kernel(x1,x2):\n",
    "    return np.dot(x1, x2.T)\n",
    "# def linear_kernel(x, y):\n",
    "#     return x.dot(y.T)\n",
    "def polynomial_Kernel(x, y, p = 3):\n",
    "    return (1+np.dot(x, y.T))**p\n",
    "# def gaussian_Kernel(x, y, sigma=5.0):\n",
    "#     return np.exp(-linalg.norm(x-y)**2 / (2*(sigma**2)))\n",
    "\n",
    "clf = svm.SVC(kernel=linear_Kernel)  # kernel = 'linear', or 'poly', or callable to call your own kernel.\n",
    "clf.fit(x_train, y_train)\n",
    "accuracy = clf.score(x_test, y_test)\n",
    "print(accuracy)"
   ]
  }
 ],
 "metadata": {
  "kernelspec": {
   "display_name": "Python 3 (ipykernel)",
   "language": "python",
   "name": "python3"
  },
  "language_info": {
   "codemirror_mode": {
    "name": "ipython",
    "version": 3
   },
   "file_extension": ".py",
   "mimetype": "text/x-python",
   "name": "python",
   "nbconvert_exporter": "python",
   "pygments_lexer": "ipython3",
   "version": "3.9.7"
  }
 },
 "nbformat": 4,
 "nbformat_minor": 5
}
